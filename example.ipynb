{
 "cells": [
  {
   "cell_type": "markdown",
   "id": "967416fd-c531-4666-a204-38677d1681fe",
   "metadata": {},
   "source": [
    "# Naive Equilibrium Decision Tree (NEDT) \n",
    "- decision tree based on Nash equilibria for multi-class classification"
   ]
  },
  {
   "cell_type": "markdown",
   "id": "93a21f41-dc95-428b-9097-1a4ca46cd86b",
   "metadata": {},
   "source": [
    "### run NEDT on some synthetic data (naive example)"
   ]
  },
  {
   "cell_type": "markdown",
   "id": "f7be14d0-30a4-4f95-acb0-cca70cc47191",
   "metadata": {},
   "source": [
    "- generate some data"
   ]
  },
  {
   "cell_type": "code",
   "execution_count": 1,
   "id": "e034a786-c093-4924-9902-27d2c0cec413",
   "metadata": {},
   "outputs": [],
   "source": [
    "from sklearn.datasets import make_classification\n",
    "\n",
    "X, y = make_classification(n_samples=200, \n",
    "                           n_features=6, \n",
    "                           n_informative=5, \n",
    "                           n_redundant=1, \n",
    "                           n_classes=6, \n",
    "                           class_sep=0.1, \n",
    "                           random_state=50)"
   ]
  },
  {
   "cell_type": "markdown",
   "id": "2731018e-95f8-47ff-80b7-e06a4dd3f17f",
   "metadata": {},
   "source": [
    "- generate train/test data (in the paper we use stratified k-fold cross validation)"
   ]
  },
  {
   "cell_type": "code",
   "execution_count": 2,
   "id": "8da87494-55f4-4125-b94e-48870037233a",
   "metadata": {},
   "outputs": [],
   "source": [
    "from sklearn.model_selection import train_test_split\n",
    "\n",
    "X_train, X_test, y_train, y_test = train_test_split(X, y, test_size=0.3, random_state=0)"
   ]
  },
  {
   "cell_type": "markdown",
   "id": "f566ccd3-58b4-400b-bc41-db2776e03758",
   "metadata": {},
   "source": [
    "- run NEDT"
   ]
  },
  {
   "cell_type": "code",
   "execution_count": 3,
   "id": "cb9fff90-4b5d-46f0-a0ba-6309b5589739",
   "metadata": {},
   "outputs": [],
   "source": [
    "import numpy as np\n",
    "from nedt import dt_alg, predict\n",
    "from collections import namedtuple"
   ]
  },
  {
   "cell_type": "code",
   "execution_count": 4,
   "id": "3bedc2e9-5d0e-4574-b3c3-ab949d694fb2",
   "metadata": {},
   "outputs": [],
   "source": [
    "# algorithm parameters\n",
    "p_probl = namedtuple(\"problem\", [\"zg_normal\", \"devieri\", \"mu\", \"sigma\", \"max_depth\",\n",
    "                            \"pop_size\"])\n",
    "params = p_probl(False, 100, -0.5, 0.5, 5, 10)"
   ]
  },
  {
   "cell_type": "code",
   "execution_count": 5,
   "id": "43f92107-4aa7-4190-b43c-e2928996519f",
   "metadata": {},
   "outputs": [],
   "source": [
    "clf = dt_alg(X_train, \n",
    "             y_train, \n",
    "             params_joc=params, \n",
    "             max_depth=params.max_depth, \n",
    "             no_classes=(len(np.unique(y_train))))\n",
    "dt_game_pred_prob, dt_game_pred_classes = predict( X_test, clf)"
   ]
  },
  {
   "cell_type": "code",
   "execution_count": 6,
   "id": "d90c3ed3-188c-4480-901a-6b68931fe17e",
   "metadata": {},
   "outputs": [
    {
     "data": {
      "text/plain": [
       "(0.6173426171671841, 0.3053024172632016)"
      ]
     },
     "execution_count": 6,
     "metadata": {},
     "output_type": "execute_result"
    }
   ],
   "source": [
    "# compute some indicator to see performance\n",
    "from sklearn.metrics import roc_auc_score, f1_score\n",
    "\n",
    "roc_score = roc_auc_score(y_test,\n",
    "                          dt_game_pred_prob,\n",
    "                          multi_class=\"ovr\",\n",
    "                          average=\"weighted\")\n",
    "f1_score = f1_score(y_test, dt_game_pred_classes, average=\"weighted\")\n",
    "roc_score, f1_score"
   ]
  }
 ],
 "metadata": {
  "kernelspec": {
   "display_name": "frog_dt",
   "language": "python",
   "name": "frog_dt"
  },
  "language_info": {
   "codemirror_mode": {
    "name": "ipython",
    "version": 3
   },
   "file_extension": ".py",
   "mimetype": "text/x-python",
   "name": "python",
   "nbconvert_exporter": "python",
   "pygments_lexer": "ipython3",
   "version": "3.10.5"
  }
 },
 "nbformat": 4,
 "nbformat_minor": 5
}
